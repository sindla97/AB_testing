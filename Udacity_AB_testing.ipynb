{
  "nbformat": 4,
  "nbformat_minor": 0,
  "metadata": {
    "colab": {
      "provenance": [],
      "authorship_tag": "ABX9TyMQ+Cktdw68PCKiKslPcToY",
      "include_colab_link": true
    },
    "kernelspec": {
      "name": "python3",
      "display_name": "Python 3"
    },
    "language_info": {
      "name": "python"
    }
  },
  "cells": [
    {
      "cell_type": "markdown",
      "metadata": {
        "id": "view-in-github",
        "colab_type": "text"
      },
      "source": [
        "<a href=\"https://colab.research.google.com/github/sindla97/AB_testing/blob/main/Udacity_AB_testing.ipynb\" target=\"_parent\"><img src=\"https://colab.research.google.com/assets/colab-badge.svg\" alt=\"Open In Colab\"/></a>"
      ]
    },
    {
      "cell_type": "code",
      "source": [
        "import numpy as np\n",
        "import pandas as pd\n",
        "from scipy import stats"
      ],
      "metadata": {
        "id": "JiNKL9EVUc_Z"
      },
      "execution_count": 1,
      "outputs": []
    },
    {
      "cell_type": "code",
      "execution_count": 2,
      "metadata": {
        "id": "9CuBiRfaSqv3"
      },
      "outputs": [],
      "source": [
        "# Example baseline values\n",
        "baseline = {\n",
        "    'pageviews': 40000,          # Unique cookies/day\n",
        "    'clicks': 3200,              # Clicks on \"Start free trial\"\n",
        "    'enrollments': 660,          # Daily enrollments\n",
        "    'Retention': 0.53,           # Payments percentage\n",
        "    'CTP': 0.08,                 # 3200/40000\n",
        "    'gross_conv': 0.20625,       # 660/3200\n",
        "    'net_conv': 0.1093125        # (660*0.53)/3200\n",
        "}"
      ]
    },
    {
      "cell_type": "code",
      "source": [
        "# Standard error at N=1\n",
        "\n",
        "for k, v in baseline.items():\n",
        "  if k in ['Retention','CTP','gross_conv','net_conv']:\n",
        "    s=np.sqrt(v * (1-v) )\n",
        "    print( f'SE of {k} is {s} \\n')\n",
        "\n",
        "\n"
      ],
      "metadata": {
        "colab": {
          "base_uri": "https://localhost:8080/"
        },
        "id": "eP7FUKs6gbj9",
        "outputId": "2042abf6-dd82-4ee4-df57-5c11a8371eb3"
      },
      "execution_count": 3,
      "outputs": [
        {
          "output_type": "stream",
          "name": "stdout",
          "text": [
            "SE of Retention is 0.4990991885387112 \n",
            "\n",
            "SE of CTP is 0.2712931993250107 \n",
            "\n",
            "SE of gross_conv is 0.4046120827409878 \n",
            "\n",
            "SE of net_conv is 0.3120308916497692 \n",
            "\n"
          ]
        }
      ]
    },
    {
      "cell_type": "code",
      "source": [
        "# calculate the size of experiment\n",
        "from scipy.stats import norm\n",
        "\n",
        "\n",
        "def get_z_star(alpha):\n",
        "   \"\"\"Returns the critical z-value for a two-tailed test.\"\"\"\n",
        "   return -norm.ppf(alpha / 2)\n",
        "\n",
        "def get_beta(z_star, s, d_min, N):\n",
        "    \"\"\"Calculates the Type II error rate (beta) for a given sample size.\"\"\"\n",
        "    SE = s / np.sqrt(N)\n",
        "    return norm.cdf(z_star * SE, loc=d_min, scale=SE)\n",
        "\n",
        "def required_size(s, d_min, Ns=range(1, 100000), alpha=0.05, beta=0.2):\n",
        "    \"\"\"Finds the smallest N where beta <= desired threshold.\"\"\"\n",
        "    z_star = get_z_star(alpha)\n",
        "    for N in Ns:\n",
        "        if get_beta(z_star, s, d_min, N) <= beta:\n",
        "            return N\n",
        "    return -1\n",
        "\n",
        "\n"
      ],
      "metadata": {
        "id": "12vSCJPsjVV_"
      },
      "execution_count": 4,
      "outputs": []
    },
    {
      "cell_type": "code",
      "source": [
        "alpha =0.05\n",
        "beta =0.02\n",
        "d_min_gross=0.01\n",
        "d_min_net=0.0075\n",
        "\n",
        "p_gross=baseline['gross_conv']\n",
        "p_net=baseline['net_conv']\n",
        "\n",
        "\n",
        "s_gross = np.sqrt(p_gross * (1 - p_gross) * 2)  # Pooled SE for two groups\n",
        "s_net = np.sqrt(p_net * (1 - p_net) * 2)\n",
        "\n",
        "# Calculate required clicks\n",
        "N_clicks_gross = required_size(s=s_gross, d_min=d_min_gross, alpha=alpha, beta=beta)\n",
        "N_clicks_net = required_size(s=s_net, d_min=d_min_net, alpha=alpha, beta=beta)\n",
        "\n",
        "# Convert clicks to pageviews\n",
        "N_pageviews_gross = int(np.ceil(N_clicks_gross / baseline['CTP']))\n",
        "N_pageviews_net = int(np.ceil(N_clicks_net / baseline['CTP']))\n",
        "\n",
        "print(f'Total No of clicks(control & experiment) needed for Gross_conv are {N_clicks_gross}, pageviews needed are {N_pageviews_gross}')\n",
        "\n",
        "\n",
        "print(f'Total No of clicks(control & experiment) needed for Net_conv  = {N_clicks_net}, pageviews needed are = {N_pageviews_net}')"
      ],
      "metadata": {
        "colab": {
          "base_uri": "https://localhost:8080/"
        },
        "id": "2Ip5ioe4j3Di",
        "outputId": "dc0d9b76-bbe3-463c-e2a2-7d39d8bac330"
      },
      "execution_count": 5,
      "outputs": [
        {
          "output_type": "stream",
          "name": "stdout",
          "text": [
            "Total No of clicks(control & experiment) needed for Gross_conv are 52748, pageviews needed are 659350\n",
            "Total No of clicks(control & experiment) needed for Net_conv  = 55770, pageviews needed are = 697125\n"
          ]
        }
      ]
    },
    {
      "cell_type": "code",
      "source": [
        "df_control = pd.read_excel('/content/Final Project Results.xlsx', sheet_name='Control')\n",
        "df_experiment = pd.read_excel('/content/Final Project Results.xlsx', sheet_name='Experiment')"
      ],
      "metadata": {
        "id": "WpGw4GRlm1yo"
      },
      "execution_count": 7,
      "outputs": []
    },
    {
      "cell_type": "code",
      "source": [
        "print(f'''Control \\n Pageviews = {df_control['Pageviews'].sum()} \\n Clicks = {df_control['Clicks'].sum()} \\n Enrollments = {df_control['Enrollments'].sum()} \\n Payments = {df_control['Payments'].sum()}''')\n",
        "\n",
        "print(f'''Experiment \\n Pageviews = {df_experiment['Pageviews'].sum()} \\n Clicks = {df_experiment['Clicks'].sum()} \\n Enrollments = {df_experiment['Enrollments'].sum()} \\n Payments = {df_experiment['Payments'].sum()}''')"
      ],
      "metadata": {
        "colab": {
          "base_uri": "https://localhost:8080/"
        },
        "id": "yfYOpN6_s-iz",
        "outputId": "ea04dffc-17b7-4e0e-dc8f-ee4bf9e2ac67"
      },
      "execution_count": 8,
      "outputs": [
        {
          "output_type": "stream",
          "name": "stdout",
          "text": [
            "Control \n",
            " Pageviews = 345543 \n",
            " Clicks = 28378 \n",
            " Enrollments = 3785.0 \n",
            " Payments = 2033.0\n",
            "Experiment \n",
            " Pageviews = 344660 \n",
            " Clicks = 28325 \n",
            " Enrollments = 3423.0 \n",
            " Payments = 1945.0\n"
          ]
        }
      ]
    },
    {
      "cell_type": "markdown",
      "source": [
        "## Sanity Checks"
      ],
      "metadata": {
        "id": "fKGNF08RDi8C"
      }
    },
    {
      "cell_type": "code",
      "source": [
        "# No of pageviews\n",
        "# H0: proportion_pv_exp = proportion_pv_ctrl\n",
        "# H1: proportion_pv_exp <> proportion_pv_ctrl\n",
        "\n",
        "\n",
        "ctrl_PV=df_control['Pageviews'].sum()\n",
        "exp_PV=df_experiment['Pageviews'].sum()\n",
        "\n",
        "total=(ctrl_PV+exp_PV)\n",
        "\n",
        "print(total,ctrl_PV,exp_PV)\n",
        "\n",
        "from statsmodels.stats.proportion import proportions_ztest\n",
        "\n",
        "zstat, pval = proportions_ztest(count=[ctrl_PV,exp_PV], nobs=[total,total], value=0.0, alternative='two-sided')\n",
        "print(f\"Two-proportion z-test p-value: {pval:.3f} , Zstat : {zstat}\")\n",
        "\n",
        "# There is no evidence the Pageviews in control and experiment groups are different\n"
      ],
      "metadata": {
        "colab": {
          "base_uri": "https://localhost:8080/"
        },
        "id": "C1iFaI5yujQU",
        "outputId": "1e6c4291-5132-4b2c-c2d6-0b92e883b22a"
      },
      "execution_count": 22,
      "outputs": [
        {
          "output_type": "stream",
          "name": "stdout",
          "text": [
            "690203 345543 344660\n",
            "Two-proportion z-test p-value: 0.133 , Zstat : 1.503097941694545\n"
          ]
        }
      ]
    },
    {
      "cell_type": "code",
      "source": [
        "# No of clicks\n",
        "# H0: proportion_clicks_exp = proportion_clicks_ctrl\n",
        "# H1: proportion_clicks_exp <> proportion_clicks_ctrl\n",
        "\n",
        "\n",
        "ctrl_clicks=df_control['Clicks'].sum()\n",
        "exp_clicks=df_experiment['Clicks'].sum()\n",
        "\n",
        "total=(ctrl_clicks+exp_clicks)\n",
        "\n",
        "print(total,ctrl_clicks,exp_clicks)\n",
        "\n",
        "from statsmodels.stats.proportion import proportions_ztest\n",
        "\n",
        "zstat, pval = proportions_ztest(count=[ctrl_clicks,exp_clicks], nobs=[total,total], value=0.0, alternative='two-sided')\n",
        "print(f\"Two-proportion z-test p-value: {pval:.3f} , Zstat : {zstat}\")\n",
        "\n",
        "\n",
        "\n",
        "# There is no evidence the Clicks in control and experiment groups are different"
      ],
      "metadata": {
        "colab": {
          "base_uri": "https://localhost:8080/"
        },
        "id": "GuOCP9lKN8zq",
        "outputId": "c6fae895-eb1d-43ed-a8b5-725a98209273"
      },
      "execution_count": 23,
      "outputs": [
        {
          "output_type": "stream",
          "name": "stdout",
          "text": [
            "56703 28378 28325\n",
            "Two-proportion z-test p-value: 0.753 , Zstat : 0.314766024552368\n"
          ]
        }
      ]
    },
    {
      "cell_type": "code",
      "source": [
        "from scipy.stats import ttest_ind\n",
        "\n",
        "control_ctp =  df_control['Clicks']/df_control['Pageviews']\n",
        "experiment_ctp = df_experiment['Clicks']/df_experiment['Pageviews']\n",
        "\n",
        "tstat, pval = ttest_ind(control_ctp, experiment_ctp)\n",
        "print(f\"Two-proportion t-test p-value: {pval:.3f} , tstat : {tstat}\")\n",
        "\n",
        "\n",
        "# There is no evidence the CTP in control and experiment groups are different"
      ],
      "metadata": {
        "colab": {
          "base_uri": "https://localhost:8080/"
        },
        "id": "OMuCbI3rPNju",
        "outputId": "d002c7c3-1695-4b1d-9ccc-38e318b5ff5b"
      },
      "execution_count": 25,
      "outputs": [
        {
          "output_type": "stream",
          "name": "stdout",
          "text": [
            "Two-proportion t-test p-value: 0.934 , tstat : -0.08302608446561602\n"
          ]
        }
      ]
    },
    {
      "cell_type": "markdown",
      "source": [
        "## Experiment Evaluation"
      ],
      "metadata": {
        "id": "nM926kPra1ld"
      }
    },
    {
      "cell_type": "code",
      "source": [],
      "metadata": {
        "id": "k3dmIthEa8vc"
      },
      "execution_count": null,
      "outputs": []
    }
  ]
}