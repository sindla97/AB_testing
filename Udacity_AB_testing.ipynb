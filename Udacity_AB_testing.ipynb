{
  "nbformat": 4,
  "nbformat_minor": 0,
  "metadata": {
    "colab": {
      "provenance": [],
      "authorship_tag": "ABX9TyN/RWh9qcPtkF5ajRMPpudj",
      "include_colab_link": true
    },
    "kernelspec": {
      "name": "python3",
      "display_name": "Python 3"
    },
    "language_info": {
      "name": "python"
    }
  },
  "cells": [
    {
      "cell_type": "markdown",
      "metadata": {
        "id": "view-in-github",
        "colab_type": "text"
      },
      "source": [
        "<a href=\"https://colab.research.google.com/github/sindla97/AB_testing/blob/main/Udacity_AB_testing.ipynb\" target=\"_parent\"><img src=\"https://colab.research.google.com/assets/colab-badge.svg\" alt=\"Open In Colab\"/></a>"
      ]
    },
    {
      "cell_type": "code",
      "source": [
        "import numpy as np\n",
        "import pandas as pd\n",
        "from scipy import stats"
      ],
      "metadata": {
        "id": "JiNKL9EVUc_Z"
      },
      "execution_count": 2,
      "outputs": []
    },
    {
      "cell_type": "code",
      "execution_count": 3,
      "metadata": {
        "id": "9CuBiRfaSqv3"
      },
      "outputs": [],
      "source": [
        "# Example baseline values\n",
        "baseline = {\n",
        "    'pageviews': 40000,          # Unique cookies/day\n",
        "    'clicks': 3200,              # Clicks on \"Start free trial\"\n",
        "    'enrollments': 660,          # Daily enrollments\n",
        "    'Retention': 0.53,           # Payments percentage\n",
        "    'CTP': 0.08,                 # 3200/40000\n",
        "    'gross_conv': 0.20625,       # 660/3200\n",
        "    'net_conv': 0.1093125        # (660*0.53)/3200\n",
        "}"
      ]
    },
    {
      "cell_type": "code",
      "source": [
        "# Standard error at N=1\n",
        "\n",
        "for k, v in baseline.items():\n",
        "  if k in ['Retention','CTP','gross_conv','net_conv']:\n",
        "    s=np.sqrt(v * (1-v) )\n",
        "    print( f'SE of {k} is {s} \\n')\n",
        "\n",
        "\n"
      ],
      "metadata": {
        "colab": {
          "base_uri": "https://localhost:8080/"
        },
        "id": "eP7FUKs6gbj9",
        "outputId": "4caaa1bb-0ad3-4b4b-bd9f-b632599c9833"
      },
      "execution_count": 6,
      "outputs": [
        {
          "output_type": "stream",
          "name": "stdout",
          "text": [
            "SE of CTP is 0.2712931993250107 \n",
            "\n",
            "SE of gross_conv is 0.4046120827409878 \n",
            "\n",
            "SE of net_conv is 0.3120308916497692 \n",
            "\n"
          ]
        }
      ]
    },
    {
      "cell_type": "code",
      "source": [
        "# calculate the size of experiment\n",
        "from scipy.stats import norm\n",
        "\n",
        "\n",
        "def get_z_star(alpha):\n",
        "   \"\"\"Returns the critical z-value for a two-tailed test.\"\"\"\n",
        "   return -norm.ppf(alpha / 2)\n",
        "\n",
        "def get_beta(z_star, s, d_min, N):\n",
        "    \"\"\"Calculates the Type II error rate (beta) for a given sample size.\"\"\"\n",
        "    SE = s / np.sqrt(N)\n",
        "    return norm.cdf(z_star * SE, loc=d_min, scale=SE)\n",
        "\n",
        "def required_size(s, d_min, Ns=range(1, 100000), alpha=0.05, beta=0.2):\n",
        "    \"\"\"Finds the smallest N where beta <= desired threshold.\"\"\"\n",
        "    z_star = get_z_star(alpha)\n",
        "    for N in Ns:\n",
        "        if get_beta(z_star, s, d_min, N) <= beta:\n",
        "            return N\n",
        "    return -1\n",
        "\n",
        "\n"
      ],
      "metadata": {
        "id": "12vSCJPsjVV_"
      },
      "execution_count": 7,
      "outputs": []
    },
    {
      "cell_type": "code",
      "source": [
        "alpha =0.05\n",
        "beta =0.02\n",
        "d_min_gross=0.01\n",
        "d_min_net=0.0075\n",
        "\n",
        "p_gross=baseline['gross_conv']\n",
        "p_net=baseline['net_conv']\n",
        "\n",
        "\n",
        "s_gross = np.sqrt(p_gross * (1 - p_gross) * 2)  # Pooled SE for two groups\n",
        "s_net = np.sqrt(p_net * (1 - p_net) * 2)\n",
        "\n",
        "# Calculate required clicks per group\n",
        "N_clicks_gross = required_size(s=s_gross, d_min=d_min_gross, alpha=alpha, beta=beta)\n",
        "N_clicks_net = required_size(s=s_net, d_min=d_min_net, alpha=alpha, beta=beta)\n",
        "\n",
        "# Convert clicks to pageviews\n",
        "N_pageviews_gross = int(np.ceil(N_clicks_gross / baseline['CTP']))\n",
        "N_pageviews_net = int(np.ceil(N_clicks_net / baseline['CTP']))\n",
        "\n",
        "print(f'Total No of clicks(control & experiment) needed for Gross_conv are {N_clicks_gross}, pageviews needed are {N_pageviews_gross}')\n",
        "\n",
        "\n",
        "print(f'Total No of clicks(control & experiment) needed for Net_conv  = {N_clicks_net}, pageviews needed are = {N_pageviews_net}')"
      ],
      "metadata": {
        "colab": {
          "base_uri": "https://localhost:8080/"
        },
        "id": "2Ip5ioe4j3Di",
        "outputId": "dcf5c0db-2908-4517-81ff-bdc898712be7"
      },
      "execution_count": 16,
      "outputs": [
        {
          "output_type": "stream",
          "name": "stdout",
          "text": [
            "Total No of clicks(control & experiment) needed for Gross_conv are 52748, pageviews needed are 659350\n",
            "Total No of clicks(control & experiment) needed for Net_conv  = 55770, pageviews needed are = 697125\n"
          ]
        }
      ]
    },
    {
      "cell_type": "code",
      "source": [
        "df_control = pd.read_excel('/content/Final Project Results.xlsx', sheet_name='Control')\n",
        "df_experiment = pd.read_excel('/content/Final Project Results.xlsx', sheet_name='Experiment')"
      ],
      "metadata": {
        "id": "WpGw4GRlm1yo"
      },
      "execution_count": 19,
      "outputs": []
    },
    {
      "cell_type": "code",
      "source": [
        "print(f'''Control \\n Pageviews = {df_control['Pageviews'].sum()} \\n Clicks = {df_control['Clicks'].sum()} \\n Enrollments = {df_control['Enrollments'].sum()} \\n Payments = {df_control['Payments'].sum()}''')\n",
        "\n",
        "print(f'''Experiment \\n Pageviews = {df_experiment['Pageviews'].sum()} \\n Clicks = {df_experiment['Clicks'].sum()} \\n Enrollments = {df_experiment['Enrollments'].sum()} \\n Payments = {df_experiment['Payments'].sum()}''')"
      ],
      "metadata": {
        "colab": {
          "base_uri": "https://localhost:8080/"
        },
        "id": "yfYOpN6_s-iz",
        "outputId": "2e32212e-9a96-4880-92c3-5a40fea7fe33"
      },
      "execution_count": 29,
      "outputs": [
        {
          "output_type": "stream",
          "name": "stdout",
          "text": [
            "Control \n",
            " Pageviews = 345543 \n",
            " Clicks = 28378 \n",
            " Enrollments = 3785.0 \n",
            " Payments = 2033.0\n",
            "Experiment \n",
            " Pageviews = 344660 \n",
            " Clicks = 28325 \n",
            " Enrollments = 3423.0 \n",
            " Payments = 1945.0\n"
          ]
        }
      ]
    },
    {
      "cell_type": "code",
      "source": [],
      "metadata": {
        "id": "C1iFaI5yujQU"
      },
      "execution_count": null,
      "outputs": []
    },
    {
      "cell_type": "code",
      "source": [
        "df_control[~df_control['Enrollments'].isnull()]['Pageviews'].sum()"
      ],
      "metadata": {
        "colab": {
          "base_uri": "https://localhost:8080/"
        },
        "id": "YeYDgiG8rTU6",
        "outputId": "f6ec78d2-4d70-43f6-cfe3-1ad2bba4a783"
      },
      "execution_count": 21,
      "outputs": [
        {
          "output_type": "execute_result",
          "data": {
            "text/plain": [
              "np.int64(212163)"
            ]
          },
          "metadata": {},
          "execution_count": 21
        }
      ]
    },
    {
      "cell_type": "code",
      "source": [
        "from statsmodels.stats.proportion import proportions_ztest\n",
        "\n",
        "count = 230_500  # Control cookies\n",
        "nobs = 464_000   # Total cookies\n",
        "zstat, pval = proportions_ztest(count, nobs, value=0.5, alternative='two-sided')\n",
        "\n",
        "print(f\"z-score: {zstat:.3f}, p-value: {pval:.4f}\")"
      ],
      "metadata": {
        "id": "9HOvYBX5UWtn"
      },
      "execution_count": null,
      "outputs": []
    }
  ]
}