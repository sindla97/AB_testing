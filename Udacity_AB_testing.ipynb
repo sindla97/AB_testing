{
  "nbformat": 4,
  "nbformat_minor": 0,
  "metadata": {
    "colab": {
      "provenance": [],
      "authorship_tag": "ABX9TyOp8ghBJcdy5cq5OqXf58s3",
      "include_colab_link": true
    },
    "kernelspec": {
      "name": "python3",
      "display_name": "Python 3"
    },
    "language_info": {
      "name": "python"
    }
  },
  "cells": [
    {
      "cell_type": "markdown",
      "metadata": {
        "id": "view-in-github",
        "colab_type": "text"
      },
      "source": [
        "<a href=\"https://colab.research.google.com/github/sindla97/AB_testing/blob/main/Udacity_AB_testing.ipynb\" target=\"_parent\"><img src=\"https://colab.research.google.com/assets/colab-badge.svg\" alt=\"Open In Colab\"/></a>"
      ]
    },
    {
      "cell_type": "markdown",
      "source": [
        "#Udacity A/B Testing\n"
      ],
      "metadata": {
        "id": "m1edZjSfuky-"
      }
    },
    {
      "cell_type": "code",
      "source": [
        "import numpy as np\n",
        "import pandas as pd\n",
        "from scipy import stats"
      ],
      "metadata": {
        "id": "JiNKL9EVUc_Z"
      },
      "execution_count": 1,
      "outputs": []
    },
    {
      "cell_type": "code",
      "execution_count": 2,
      "metadata": {
        "id": "9CuBiRfaSqv3"
      },
      "outputs": [],
      "source": [
        "# Example baseline values\n",
        "baseline = {\n",
        "    'pageviews': 40000,          # Unique cookies/day\n",
        "    'clicks': 3200,              # Clicks on \"Start free trial\"\n",
        "    'enrollments': 660,          # Daily enrollments\n",
        "    'Retention': 0.53,           # Payments percentage\n",
        "    'CTP': 0.08,                 # 3200/40000\n",
        "    'gross_conv': 0.20625,       # 660/3200\n",
        "    'net_conv': 0.1093125        # (660*0.53)/3200\n",
        "}"
      ]
    },
    {
      "cell_type": "code",
      "source": [
        "# Standard error at N=1\n",
        "\n",
        "for k, v in baseline.items():\n",
        "  if k in ['Retention','CTP','gross_conv','net_conv']:\n",
        "    s=np.sqrt(v * (1-v) )\n",
        "    print( f'SE of {k} is {s} \\n')\n",
        "\n",
        "\n"
      ],
      "metadata": {
        "colab": {
          "base_uri": "https://localhost:8080/"
        },
        "id": "eP7FUKs6gbj9",
        "outputId": "55772902-6b86-4cf0-8a64-ae5cd1994fe2"
      },
      "execution_count": 3,
      "outputs": [
        {
          "output_type": "stream",
          "name": "stdout",
          "text": [
            "SE of Retention is 0.4990991885387112 \n",
            "\n",
            "SE of CTP is 0.2712931993250107 \n",
            "\n",
            "SE of gross_conv is 0.4046120827409878 \n",
            "\n",
            "SE of net_conv is 0.3120308916497692 \n",
            "\n"
          ]
        }
      ]
    },
    {
      "cell_type": "markdown",
      "source": [
        "##Experiment Size Estimation"
      ],
      "metadata": {
        "id": "SAgPTraxutr-"
      }
    },
    {
      "cell_type": "code",
      "source": [
        "# calculate the size of experiment\n",
        "from scipy.stats import norm\n",
        "\n",
        "\n",
        "def get_z_star(alpha):\n",
        "   \"\"\"Returns the critical z-value for a two-tailed test.\"\"\"\n",
        "   return -norm.ppf(alpha / 2)\n",
        "\n",
        "def get_beta(z_star, s, d_min, N):\n",
        "    \"\"\"Calculates the Type II error rate (beta) for a given sample size.\"\"\"\n",
        "    SE = s / np.sqrt(N)\n",
        "    return norm.cdf(z_star * SE, loc=d_min, scale=SE)\n",
        "\n",
        "def required_size(s, d_min, Ns=range(1, 100000), alpha=0.05, beta=0.2):\n",
        "    \"\"\"Finds the smallest N where beta <= desired threshold.\"\"\"\n",
        "    z_star = get_z_star(alpha)\n",
        "    for N in Ns:\n",
        "        if get_beta(z_star, s, d_min, N) <= beta:\n",
        "            return N\n",
        "    return -1\n",
        "\n",
        "\n"
      ],
      "metadata": {
        "id": "12vSCJPsjVV_"
      },
      "execution_count": 4,
      "outputs": []
    },
    {
      "cell_type": "code",
      "source": [
        "alpha =0.05\n",
        "beta =0.02\n",
        "d_min_gross=0.01\n",
        "d_min_net=0.0075\n",
        "\n",
        "p_gross=baseline['gross_conv']\n",
        "p_net=baseline['net_conv']\n",
        "\n",
        "\n",
        "s_gross = np.sqrt(p_gross * (1 - p_gross) * 2)  # Pooled SE for two groups\n",
        "s_net = np.sqrt(p_net * (1 - p_net) * 2)\n",
        "\n",
        "# Calculate required clicks\n",
        "N_clicks_gross = required_size(s=s_gross, d_min=d_min_gross, alpha=alpha, beta=beta)\n",
        "N_clicks_net = required_size(s=s_net, d_min=d_min_net, alpha=alpha, beta=beta)\n",
        "\n",
        "# Convert clicks to pageviews\n",
        "N_pageviews_gross = int(np.ceil(N_clicks_gross / baseline['CTP']))\n",
        "N_pageviews_net = int(np.ceil(N_clicks_net / baseline['CTP']))\n",
        "\n",
        "print(f'Total No of clicks(control & experiment) needed for Gross_conv are {N_clicks_gross}, pageviews needed are {N_pageviews_gross}')\n",
        "\n",
        "\n",
        "print(f'Total No of clicks(control & experiment) needed for Net_conv  = {N_clicks_net}, pageviews needed are = {N_pageviews_net}')"
      ],
      "metadata": {
        "colab": {
          "base_uri": "https://localhost:8080/"
        },
        "id": "2Ip5ioe4j3Di",
        "outputId": "db78c3fb-075f-4290-a103-ec9eb33ae823"
      },
      "execution_count": 5,
      "outputs": [
        {
          "output_type": "stream",
          "name": "stdout",
          "text": [
            "Total No of clicks(control & experiment) needed for Gross_conv are 52748, pageviews needed are 659350\n",
            "Total No of clicks(control & experiment) needed for Net_conv  = 55770, pageviews needed are = 697125\n"
          ]
        }
      ]
    },
    {
      "cell_type": "markdown",
      "source": [
        "## Sanity Checks"
      ],
      "metadata": {
        "id": "fKGNF08RDi8C"
      }
    },
    {
      "cell_type": "code",
      "source": [
        "df_control = pd.read_excel('/content/Final Project Results.xlsx', sheet_name='Control')\n",
        "df_experiment = pd.read_excel('/content/Final Project Results.xlsx', sheet_name='Experiment')"
      ],
      "metadata": {
        "id": "WpGw4GRlm1yo"
      },
      "execution_count": 7,
      "outputs": []
    },
    {
      "cell_type": "code",
      "source": [
        "print(f'''Control \\n Pageviews = {df_control['Pageviews'].sum()} \\n Clicks = {df_control['Clicks'].sum()} \\n Enrollments = {df_control['Enrollments'].sum()} \\n Payments = {df_control['Payments'].sum()}''')\n",
        "\n",
        "print(f'''Experiment \\n Pageviews = {df_experiment['Pageviews'].sum()} \\n Clicks = {df_experiment['Clicks'].sum()} \\n Enrollments = {df_experiment['Enrollments'].sum()} \\n Payments = {df_experiment['Payments'].sum()}''')"
      ],
      "metadata": {
        "colab": {
          "base_uri": "https://localhost:8080/"
        },
        "id": "yfYOpN6_s-iz",
        "outputId": "379cf6c0-110d-4c19-b478-379ef8ecbfcb"
      },
      "execution_count": 8,
      "outputs": [
        {
          "output_type": "stream",
          "name": "stdout",
          "text": [
            "Control \n",
            " Pageviews = 345543 \n",
            " Clicks = 28378 \n",
            " Enrollments = 3785.0 \n",
            " Payments = 2033.0\n",
            "Experiment \n",
            " Pageviews = 344660 \n",
            " Clicks = 28325 \n",
            " Enrollments = 3423.0 \n",
            " Payments = 1945.0\n"
          ]
        }
      ]
    },
    {
      "cell_type": "code",
      "source": [
        "# No of pageviews\n",
        "# H0: proportion_pv_exp = proportion_pv_ctrl\n",
        "# H1: proportion_pv_exp <> proportion_pv_ctrl\n",
        "\n",
        "\n",
        "ctrl_PV=df_control['Pageviews'].sum()\n",
        "exp_PV=df_experiment['Pageviews'].sum()\n",
        "\n",
        "total=(ctrl_PV+exp_PV)\n",
        "\n",
        "print(total,ctrl_PV,exp_PV)\n",
        "\n",
        "from statsmodels.stats.proportion import proportions_ztest\n",
        "\n",
        "zstat, pval = proportions_ztest(count=[ctrl_PV,exp_PV], nobs=[total,total], value=0.0, alternative='two-sided')\n",
        "print(f\"Two-proportion z-test p-value: {pval:.3f} , Zstat : {zstat}\")\n",
        "\n",
        "# There is no evidence the Pageviews in control and experiment groups are different\n"
      ],
      "metadata": {
        "colab": {
          "base_uri": "https://localhost:8080/"
        },
        "id": "C1iFaI5yujQU",
        "outputId": "e0b2b742-b845-4baa-d2c5-31f3a67bb211"
      },
      "execution_count": 9,
      "outputs": [
        {
          "output_type": "stream",
          "name": "stdout",
          "text": [
            "690203 345543 344660\n",
            "Two-proportion z-test p-value: 0.133 , Zstat : 1.503097941694545\n"
          ]
        }
      ]
    },
    {
      "cell_type": "code",
      "source": [
        "# No of clicks\n",
        "# H0: proportion_clicks_exp = proportion_clicks_ctrl\n",
        "# H1: proportion_clicks_exp <> proportion_clicks_ctrl\n",
        "\n",
        "\n",
        "ctrl_clicks=df_control['Clicks'].sum()\n",
        "exp_clicks=df_experiment['Clicks'].sum()\n",
        "\n",
        "total=(ctrl_clicks+exp_clicks)\n",
        "\n",
        "print(total,ctrl_clicks,exp_clicks)\n",
        "\n",
        "from statsmodels.stats.proportion import proportions_ztest\n",
        "\n",
        "zstat, pval = proportions_ztest(count=[ctrl_clicks,exp_clicks], nobs=[total,total], value=0.0, alternative='two-sided')\n",
        "print(f\"Two-proportion z-test p-value: {pval:.3f} , Zstat : {zstat}\")\n",
        "\n",
        "\n",
        "\n",
        "# There is no evidence the Clicks in control and experiment groups are different"
      ],
      "metadata": {
        "colab": {
          "base_uri": "https://localhost:8080/"
        },
        "id": "GuOCP9lKN8zq",
        "outputId": "03beb9ab-fd01-4e2c-d08a-546a31d4a025"
      },
      "execution_count": 10,
      "outputs": [
        {
          "output_type": "stream",
          "name": "stdout",
          "text": [
            "56703 28378 28325\n",
            "Two-proportion z-test p-value: 0.753 , Zstat : 0.314766024552368\n"
          ]
        }
      ]
    },
    {
      "cell_type": "code",
      "source": [
        "from scipy.stats import ttest_ind\n",
        "\n",
        "control_ctp =  df_control['Clicks']/df_control['Pageviews']\n",
        "experiment_ctp = df_experiment['Clicks']/df_experiment['Pageviews']\n",
        "\n",
        "tstat, pval = ttest_ind(control_ctp, experiment_ctp)\n",
        "print(f\"Two-proportion t-test p-value: {pval:.3f} , tstat : {tstat}\")\n",
        "\n",
        "\n",
        "# There is no evidence the CTP in control and experiment groups are different"
      ],
      "metadata": {
        "colab": {
          "base_uri": "https://localhost:8080/"
        },
        "id": "OMuCbI3rPNju",
        "outputId": "8a5a0f1d-575d-4f50-ca13-048bc006f8a1"
      },
      "execution_count": 11,
      "outputs": [
        {
          "output_type": "stream",
          "name": "stdout",
          "text": [
            "Two-proportion t-test p-value: 0.934 , tstat : -0.08302608446561602\n"
          ]
        }
      ]
    },
    {
      "cell_type": "markdown",
      "source": [
        "## Experiment Evaluation"
      ],
      "metadata": {
        "id": "nM926kPra1ld"
      }
    },
    {
      "cell_type": "code",
      "source": [
        "df_control['group']='Control'\n",
        "df_experiment['group']='Experiment'\n",
        "combined_df = pd.concat((df_control[df_control['Payments'].isna()==False], df_experiment[df_experiment['Payments'].isna()==False]), axis=0)\n",
        "summary_df=combined_df.groupby('group')[['Pageviews','Clicks','Enrollments','Payments']].sum().reset_index()\n",
        "summary_df"
      ],
      "metadata": {
        "colab": {
          "base_uri": "https://localhost:8080/",
          "height": 125
        },
        "id": "mrvk6IAXSOqO",
        "outputId": "43524509-ebaa-4559-b9a0-8a4621b74791"
      },
      "execution_count": 20,
      "outputs": [
        {
          "output_type": "execute_result",
          "data": {
            "text/plain": [
              "        group  Pageviews  Clicks  Enrollments  Payments\n",
              "0     Control     212163   17293       3785.0    2033.0\n",
              "1  Experiment     211362   17260       3423.0    1945.0"
            ],
            "text/html": [
              "\n",
              "  <div id=\"df-f9735f56-1f76-4597-a14a-389aa6022a28\" class=\"colab-df-container\">\n",
              "    <div>\n",
              "<style scoped>\n",
              "    .dataframe tbody tr th:only-of-type {\n",
              "        vertical-align: middle;\n",
              "    }\n",
              "\n",
              "    .dataframe tbody tr th {\n",
              "        vertical-align: top;\n",
              "    }\n",
              "\n",
              "    .dataframe thead th {\n",
              "        text-align: right;\n",
              "    }\n",
              "</style>\n",
              "<table border=\"1\" class=\"dataframe\">\n",
              "  <thead>\n",
              "    <tr style=\"text-align: right;\">\n",
              "      <th></th>\n",
              "      <th>group</th>\n",
              "      <th>Pageviews</th>\n",
              "      <th>Clicks</th>\n",
              "      <th>Enrollments</th>\n",
              "      <th>Payments</th>\n",
              "    </tr>\n",
              "  </thead>\n",
              "  <tbody>\n",
              "    <tr>\n",
              "      <th>0</th>\n",
              "      <td>Control</td>\n",
              "      <td>212163</td>\n",
              "      <td>17293</td>\n",
              "      <td>3785.0</td>\n",
              "      <td>2033.0</td>\n",
              "    </tr>\n",
              "    <tr>\n",
              "      <th>1</th>\n",
              "      <td>Experiment</td>\n",
              "      <td>211362</td>\n",
              "      <td>17260</td>\n",
              "      <td>3423.0</td>\n",
              "      <td>1945.0</td>\n",
              "    </tr>\n",
              "  </tbody>\n",
              "</table>\n",
              "</div>\n",
              "    <div class=\"colab-df-buttons\">\n",
              "\n",
              "  <div class=\"colab-df-container\">\n",
              "    <button class=\"colab-df-convert\" onclick=\"convertToInteractive('df-f9735f56-1f76-4597-a14a-389aa6022a28')\"\n",
              "            title=\"Convert this dataframe to an interactive table.\"\n",
              "            style=\"display:none;\">\n",
              "\n",
              "  <svg xmlns=\"http://www.w3.org/2000/svg\" height=\"24px\" viewBox=\"0 -960 960 960\">\n",
              "    <path d=\"M120-120v-720h720v720H120Zm60-500h600v-160H180v160Zm220 220h160v-160H400v160Zm0 220h160v-160H400v160ZM180-400h160v-160H180v160Zm440 0h160v-160H620v160ZM180-180h160v-160H180v160Zm440 0h160v-160H620v160Z\"/>\n",
              "  </svg>\n",
              "    </button>\n",
              "\n",
              "  <style>\n",
              "    .colab-df-container {\n",
              "      display:flex;\n",
              "      gap: 12px;\n",
              "    }\n",
              "\n",
              "    .colab-df-convert {\n",
              "      background-color: #E8F0FE;\n",
              "      border: none;\n",
              "      border-radius: 50%;\n",
              "      cursor: pointer;\n",
              "      display: none;\n",
              "      fill: #1967D2;\n",
              "      height: 32px;\n",
              "      padding: 0 0 0 0;\n",
              "      width: 32px;\n",
              "    }\n",
              "\n",
              "    .colab-df-convert:hover {\n",
              "      background-color: #E2EBFA;\n",
              "      box-shadow: 0px 1px 2px rgba(60, 64, 67, 0.3), 0px 1px 3px 1px rgba(60, 64, 67, 0.15);\n",
              "      fill: #174EA6;\n",
              "    }\n",
              "\n",
              "    .colab-df-buttons div {\n",
              "      margin-bottom: 4px;\n",
              "    }\n",
              "\n",
              "    [theme=dark] .colab-df-convert {\n",
              "      background-color: #3B4455;\n",
              "      fill: #D2E3FC;\n",
              "    }\n",
              "\n",
              "    [theme=dark] .colab-df-convert:hover {\n",
              "      background-color: #434B5C;\n",
              "      box-shadow: 0px 1px 3px 1px rgba(0, 0, 0, 0.15);\n",
              "      filter: drop-shadow(0px 1px 2px rgba(0, 0, 0, 0.3));\n",
              "      fill: #FFFFFF;\n",
              "    }\n",
              "  </style>\n",
              "\n",
              "    <script>\n",
              "      const buttonEl =\n",
              "        document.querySelector('#df-f9735f56-1f76-4597-a14a-389aa6022a28 button.colab-df-convert');\n",
              "      buttonEl.style.display =\n",
              "        google.colab.kernel.accessAllowed ? 'block' : 'none';\n",
              "\n",
              "      async function convertToInteractive(key) {\n",
              "        const element = document.querySelector('#df-f9735f56-1f76-4597-a14a-389aa6022a28');\n",
              "        const dataTable =\n",
              "          await google.colab.kernel.invokeFunction('convertToInteractive',\n",
              "                                                    [key], {});\n",
              "        if (!dataTable) return;\n",
              "\n",
              "        const docLinkHtml = 'Like what you see? Visit the ' +\n",
              "          '<a target=\"_blank\" href=https://colab.research.google.com/notebooks/data_table.ipynb>data table notebook</a>'\n",
              "          + ' to learn more about interactive tables.';\n",
              "        element.innerHTML = '';\n",
              "        dataTable['output_type'] = 'display_data';\n",
              "        await google.colab.output.renderOutput(dataTable, element);\n",
              "        const docLink = document.createElement('div');\n",
              "        docLink.innerHTML = docLinkHtml;\n",
              "        element.appendChild(docLink);\n",
              "      }\n",
              "    </script>\n",
              "  </div>\n",
              "\n",
              "\n",
              "    <div id=\"df-40748efa-19c4-4815-8857-118b9d26689d\">\n",
              "      <button class=\"colab-df-quickchart\" onclick=\"quickchart('df-40748efa-19c4-4815-8857-118b9d26689d')\"\n",
              "                title=\"Suggest charts\"\n",
              "                style=\"display:none;\">\n",
              "\n",
              "<svg xmlns=\"http://www.w3.org/2000/svg\" height=\"24px\"viewBox=\"0 0 24 24\"\n",
              "     width=\"24px\">\n",
              "    <g>\n",
              "        <path d=\"M19 3H5c-1.1 0-2 .9-2 2v14c0 1.1.9 2 2 2h14c1.1 0 2-.9 2-2V5c0-1.1-.9-2-2-2zM9 17H7v-7h2v7zm4 0h-2V7h2v10zm4 0h-2v-4h2v4z\"/>\n",
              "    </g>\n",
              "</svg>\n",
              "      </button>\n",
              "\n",
              "<style>\n",
              "  .colab-df-quickchart {\n",
              "      --bg-color: #E8F0FE;\n",
              "      --fill-color: #1967D2;\n",
              "      --hover-bg-color: #E2EBFA;\n",
              "      --hover-fill-color: #174EA6;\n",
              "      --disabled-fill-color: #AAA;\n",
              "      --disabled-bg-color: #DDD;\n",
              "  }\n",
              "\n",
              "  [theme=dark] .colab-df-quickchart {\n",
              "      --bg-color: #3B4455;\n",
              "      --fill-color: #D2E3FC;\n",
              "      --hover-bg-color: #434B5C;\n",
              "      --hover-fill-color: #FFFFFF;\n",
              "      --disabled-bg-color: #3B4455;\n",
              "      --disabled-fill-color: #666;\n",
              "  }\n",
              "\n",
              "  .colab-df-quickchart {\n",
              "    background-color: var(--bg-color);\n",
              "    border: none;\n",
              "    border-radius: 50%;\n",
              "    cursor: pointer;\n",
              "    display: none;\n",
              "    fill: var(--fill-color);\n",
              "    height: 32px;\n",
              "    padding: 0;\n",
              "    width: 32px;\n",
              "  }\n",
              "\n",
              "  .colab-df-quickchart:hover {\n",
              "    background-color: var(--hover-bg-color);\n",
              "    box-shadow: 0 1px 2px rgba(60, 64, 67, 0.3), 0 1px 3px 1px rgba(60, 64, 67, 0.15);\n",
              "    fill: var(--button-hover-fill-color);\n",
              "  }\n",
              "\n",
              "  .colab-df-quickchart-complete:disabled,\n",
              "  .colab-df-quickchart-complete:disabled:hover {\n",
              "    background-color: var(--disabled-bg-color);\n",
              "    fill: var(--disabled-fill-color);\n",
              "    box-shadow: none;\n",
              "  }\n",
              "\n",
              "  .colab-df-spinner {\n",
              "    border: 2px solid var(--fill-color);\n",
              "    border-color: transparent;\n",
              "    border-bottom-color: var(--fill-color);\n",
              "    animation:\n",
              "      spin 1s steps(1) infinite;\n",
              "  }\n",
              "\n",
              "  @keyframes spin {\n",
              "    0% {\n",
              "      border-color: transparent;\n",
              "      border-bottom-color: var(--fill-color);\n",
              "      border-left-color: var(--fill-color);\n",
              "    }\n",
              "    20% {\n",
              "      border-color: transparent;\n",
              "      border-left-color: var(--fill-color);\n",
              "      border-top-color: var(--fill-color);\n",
              "    }\n",
              "    30% {\n",
              "      border-color: transparent;\n",
              "      border-left-color: var(--fill-color);\n",
              "      border-top-color: var(--fill-color);\n",
              "      border-right-color: var(--fill-color);\n",
              "    }\n",
              "    40% {\n",
              "      border-color: transparent;\n",
              "      border-right-color: var(--fill-color);\n",
              "      border-top-color: var(--fill-color);\n",
              "    }\n",
              "    60% {\n",
              "      border-color: transparent;\n",
              "      border-right-color: var(--fill-color);\n",
              "    }\n",
              "    80% {\n",
              "      border-color: transparent;\n",
              "      border-right-color: var(--fill-color);\n",
              "      border-bottom-color: var(--fill-color);\n",
              "    }\n",
              "    90% {\n",
              "      border-color: transparent;\n",
              "      border-bottom-color: var(--fill-color);\n",
              "    }\n",
              "  }\n",
              "</style>\n",
              "\n",
              "      <script>\n",
              "        async function quickchart(key) {\n",
              "          const quickchartButtonEl =\n",
              "            document.querySelector('#' + key + ' button');\n",
              "          quickchartButtonEl.disabled = true;  // To prevent multiple clicks.\n",
              "          quickchartButtonEl.classList.add('colab-df-spinner');\n",
              "          try {\n",
              "            const charts = await google.colab.kernel.invokeFunction(\n",
              "                'suggestCharts', [key], {});\n",
              "          } catch (error) {\n",
              "            console.error('Error during call to suggestCharts:', error);\n",
              "          }\n",
              "          quickchartButtonEl.classList.remove('colab-df-spinner');\n",
              "          quickchartButtonEl.classList.add('colab-df-quickchart-complete');\n",
              "        }\n",
              "        (() => {\n",
              "          let quickchartButtonEl =\n",
              "            document.querySelector('#df-40748efa-19c4-4815-8857-118b9d26689d button');\n",
              "          quickchartButtonEl.style.display =\n",
              "            google.colab.kernel.accessAllowed ? 'block' : 'none';\n",
              "        })();\n",
              "      </script>\n",
              "    </div>\n",
              "\n",
              "  <div id=\"id_5131b105-5798-4fdf-ad1c-39c979a7972d\">\n",
              "    <style>\n",
              "      .colab-df-generate {\n",
              "        background-color: #E8F0FE;\n",
              "        border: none;\n",
              "        border-radius: 50%;\n",
              "        cursor: pointer;\n",
              "        display: none;\n",
              "        fill: #1967D2;\n",
              "        height: 32px;\n",
              "        padding: 0 0 0 0;\n",
              "        width: 32px;\n",
              "      }\n",
              "\n",
              "      .colab-df-generate:hover {\n",
              "        background-color: #E2EBFA;\n",
              "        box-shadow: 0px 1px 2px rgba(60, 64, 67, 0.3), 0px 1px 3px 1px rgba(60, 64, 67, 0.15);\n",
              "        fill: #174EA6;\n",
              "      }\n",
              "\n",
              "      [theme=dark] .colab-df-generate {\n",
              "        background-color: #3B4455;\n",
              "        fill: #D2E3FC;\n",
              "      }\n",
              "\n",
              "      [theme=dark] .colab-df-generate:hover {\n",
              "        background-color: #434B5C;\n",
              "        box-shadow: 0px 1px 3px 1px rgba(0, 0, 0, 0.15);\n",
              "        filter: drop-shadow(0px 1px 2px rgba(0, 0, 0, 0.3));\n",
              "        fill: #FFFFFF;\n",
              "      }\n",
              "    </style>\n",
              "    <button class=\"colab-df-generate\" onclick=\"generateWithVariable('summary_df')\"\n",
              "            title=\"Generate code using this dataframe.\"\n",
              "            style=\"display:none;\">\n",
              "\n",
              "  <svg xmlns=\"http://www.w3.org/2000/svg\" height=\"24px\"viewBox=\"0 0 24 24\"\n",
              "       width=\"24px\">\n",
              "    <path d=\"M7,19H8.4L18.45,9,17,7.55,7,17.6ZM5,21V16.75L18.45,3.32a2,2,0,0,1,2.83,0l1.4,1.43a1.91,1.91,0,0,1,.58,1.4,1.91,1.91,0,0,1-.58,1.4L9.25,21ZM18.45,9,17,7.55Zm-12,3A5.31,5.31,0,0,0,4.9,8.1,5.31,5.31,0,0,0,1,6.5,5.31,5.31,0,0,0,4.9,4.9,5.31,5.31,0,0,0,6.5,1,5.31,5.31,0,0,0,8.1,4.9,5.31,5.31,0,0,0,12,6.5,5.46,5.46,0,0,0,6.5,12Z\"/>\n",
              "  </svg>\n",
              "    </button>\n",
              "    <script>\n",
              "      (() => {\n",
              "      const buttonEl =\n",
              "        document.querySelector('#id_5131b105-5798-4fdf-ad1c-39c979a7972d button.colab-df-generate');\n",
              "      buttonEl.style.display =\n",
              "        google.colab.kernel.accessAllowed ? 'block' : 'none';\n",
              "\n",
              "      buttonEl.onclick = () => {\n",
              "        google.colab.notebook.generateWithVariable('summary_df');\n",
              "      }\n",
              "      })();\n",
              "    </script>\n",
              "  </div>\n",
              "\n",
              "    </div>\n",
              "  </div>\n"
            ],
            "application/vnd.google.colaboratory.intrinsic+json": {
              "type": "dataframe",
              "variable_name": "summary_df",
              "summary": "{\n  \"name\": \"summary_df\",\n  \"rows\": 2,\n  \"fields\": [\n    {\n      \"column\": \"group\",\n      \"properties\": {\n        \"dtype\": \"string\",\n        \"num_unique_values\": 2,\n        \"samples\": [\n          \"Experiment\",\n          \"Control\"\n        ],\n        \"semantic_type\": \"\",\n        \"description\": \"\"\n      }\n    },\n    {\n      \"column\": \"Pageviews\",\n      \"properties\": {\n        \"dtype\": \"number\",\n        \"std\": 566,\n        \"min\": 211362,\n        \"max\": 212163,\n        \"num_unique_values\": 2,\n        \"samples\": [\n          211362,\n          212163\n        ],\n        \"semantic_type\": \"\",\n        \"description\": \"\"\n      }\n    },\n    {\n      \"column\": \"Clicks\",\n      \"properties\": {\n        \"dtype\": \"number\",\n        \"std\": 23,\n        \"min\": 17260,\n        \"max\": 17293,\n        \"num_unique_values\": 2,\n        \"samples\": [\n          17260,\n          17293\n        ],\n        \"semantic_type\": \"\",\n        \"description\": \"\"\n      }\n    },\n    {\n      \"column\": \"Enrollments\",\n      \"properties\": {\n        \"dtype\": \"number\",\n        \"std\": 255.9726547895302,\n        \"min\": 3423.0,\n        \"max\": 3785.0,\n        \"num_unique_values\": 2,\n        \"samples\": [\n          3423.0,\n          3785.0\n        ],\n        \"semantic_type\": \"\",\n        \"description\": \"\"\n      }\n    },\n    {\n      \"column\": \"Payments\",\n      \"properties\": {\n        \"dtype\": \"number\",\n        \"std\": 62.22539674441618,\n        \"min\": 1945.0,\n        \"max\": 2033.0,\n        \"num_unique_values\": 2,\n        \"samples\": [\n          1945.0,\n          2033.0\n        ],\n        \"semantic_type\": \"\",\n        \"description\": \"\"\n      }\n    }\n  ]\n}"
            }
          },
          "metadata": {},
          "execution_count": 20
        }
      ]
    },
    {
      "cell_type": "code",
      "source": [
        "# checking if Gross conversion is significantly different in experiment vs control\n",
        "# Total enrollments/Clicks\n",
        "\n",
        "alpha=0.05\n",
        "\n",
        "GC_ctrl=summary_df.loc[0,'Enrollments']/summary_df.loc[0,'Clicks']\n",
        "GC_exp=summary_df.loc[1,'Enrollments']/summary_df.loc[1,'Clicks']\n",
        "\n",
        "pooled_prop= (summary_df.loc[0,'Enrollments']+summary_df.loc[1,'Enrollments'])/(summary_df.loc[0,'Clicks']+summary_df.loc[1,'Clicks'])\n",
        "\n",
        "\n",
        "print(f'Gross Conversion Experiment : {GC_exp}\\nGross Conversion Control : {GC_ctrl}\\nPooled proportion :{pooled_prop}')\n",
        "\n",
        "SE=np.sqrt((pooled_prop*(1-pooled_prop))*((1/summary_df.loc[0,'Clicks'])+(1/summary_df.loc[1,'Clicks'])))\n",
        "\n",
        "z=norm.ppf(alpha / 2)\n",
        "\n",
        "CI_upper_limit = -z * SE\n",
        "CI_lower_limit = z * SE\n",
        "\n",
        "diff= GC_exp-GC_ctrl\n",
        "\n",
        "\n",
        "print(f'Standard Error ={SE}\\nP_exp - P_ctrl = {diff}\\nMarginal error = {z * SE}\\nconfidence interval = {[CI_lower_limit,CI_upper_limit]}\\n')\n",
        "\n",
        "if diff < CI_upper_limit and diff > CI_lower_limit:\n",
        "    print(f\"The observed difference in Gross Conversion between the experiment and control groups is not statistically significant at the 5% significance level : diff ={np.round(diff,4)} is inside confidence interval [{[np.round(CI_lower_limit,4),np.round(CI_upper_limit,4)]}].\\nTherefore, we fail to reject the null hypothesis and conclude that there is no evidence of a difference in Gross Conversion between the two groups.\")\n",
        "else:\n",
        "    print(f\"The observed difference in Gross Conversion between the experiment and control groups is statistically significant at the 5% significance level : diff ={np.round(diff,4)} is outside confidence interval [{[np.round(CI_lower_limit,4),np.round(CI_upper_limit,4)]}].\\nTherefore, we reject the null hypothesis and conclude that there is evidence of a difference in Gross Conversion between the two groups.\")"
      ],
      "metadata": {
        "id": "k3dmIthEa8vc",
        "colab": {
          "base_uri": "https://localhost:8080/"
        },
        "outputId": "5d43491e-bc20-43a6-fc29-d7218bcf8138"
      },
      "execution_count": 49,
      "outputs": [
        {
          "output_type": "stream",
          "name": "stdout",
          "text": [
            "Gross Conversion Experiment : 0.19831981460023174\n",
            "Gross Conversion Control : 0.2188746891805933\n",
            "Pooled proportion :0.20860706740369866\n",
            "Standard Error =0.004371675385225936\n",
            "P_exp - P_ctrl = -0.020554874580361565\n",
            "Marginal error = -0.008568326307143104\n",
            "confidence interval = [np.float64(-0.008568326307143104), np.float64(0.008568326307143104)]\n",
            "\n",
            "The observed difference in Gross Conversion between the experiment and control groups is statistically significant at the 5% significance level : diff =-0.0206 is outside confidence interval [[np.float64(-0.0086), np.float64(0.0086)]].\n",
            "Therefore, we reject the null hypothesis and conclude that there is evidence of a difference in Gross Conversion between the two groups.\n"
          ]
        }
      ]
    },
    {
      "cell_type": "code",
      "source": [
        "# checking if Net conversion is significantly different in experiment vs control\n",
        "# Total Payments/Clicks\n",
        "\n",
        "alpha=0.05\n",
        "\n",
        "NC_ctrl=summary_df.loc[0,'Payments']/summary_df.loc[0,'Clicks']\n",
        "NC_exp=summary_df.loc[1,'Payments']/summary_df.loc[1,'Clicks']\n",
        "\n",
        "pooled_prop= (summary_df.loc[0,'Payments']+summary_df.loc[1,'Payments'])/(summary_df.loc[0,'Clicks']+summary_df.loc[1,'Clicks'])\n",
        "\n",
        "\n",
        "print(f'Gross Conversion Experiment : {GC_exp}\\nGross Conversion Control : {GC_ctrl}\\nPooled proportion :{pooled_prop}')\n",
        "\n",
        "\n",
        "SE=np.sqrt((pooled_prop*(1-pooled_prop))*((1/summary_df.loc[0,'Clicks'])+(1/summary_df.loc[1,'Clicks'])))\n",
        "\n",
        "z=norm.ppf(alpha / 2)\n",
        "\n",
        "CI_upper_limit = -z * SE\n",
        "CI_lower_limit = z * SE\n",
        "\n",
        "diff= NC_exp-NC_ctrl\n",
        "\n",
        "print(f'Standard Error ={SE}\\nP_exp - P_ctrl = {diff}\\nMarginal error = {z * SE}\\nconfidence interval = {[CI_lower_limit,CI_upper_limit]}\\n')\n",
        "\n",
        "\n",
        "\n",
        "if diff < CI_upper_limit and diff > CI_lower_limit:\n",
        "    print(f\"The observed difference in Net Conversion between the experiment and control groups is not statistically significant at the 5% significance level : diff ={np.round(diff,4)} is inside confidence interval [{[np.round(CI_lower_limit,4),np.round(CI_upper_limit,4)]}].\\nTherefore, we fail to reject the null hypothesis and conclude that there is no evidence of a difference in Gross Conversion between the two groups.\")\n",
        "else:\n",
        "    print(f\"The observed difference in Net Conversion between the experiment and control groups is statistically significant at the 5% significance level : diff ={np.round(diff,4)} is outside confidence interval [{[np.round(CI_lower_limit,4),np.round(CI_upper_limit,4)]}].\\nTherefore, we reject the null hypothesis and conclude that there is evidence of a difference in Gross Conversion between the two groups.\")"
      ],
      "metadata": {
        "colab": {
          "base_uri": "https://localhost:8080/"
        },
        "id": "h4U9oZvtn3Nx",
        "outputId": "3ba1ec53-e442-4a24-8c3d-ae59473a49a8"
      },
      "execution_count": 50,
      "outputs": [
        {
          "output_type": "stream",
          "name": "stdout",
          "text": [
            "Gross Conversion Experiment : 0.19831981460023174\n",
            "Gross Conversion Control : 0.2188746891805933\n",
            "Pooled proportion :0.1151274853124186\n",
            "Standard Error =0.0034341335129324238\n",
            "P_exp - P_ctrl = -0.0048737226745441675\n",
            "Marginal error = -0.006730778003449568\n",
            "confidence interval = [np.float64(-0.006730778003449568), np.float64(0.006730778003449568)]\n",
            "\n",
            "The observed difference in Net Conversion between the experiment and control groups is not statistically significant at the 5% significance level : diff =-0.0049 is inside confidence interval [[np.float64(-0.0067), np.float64(0.0067)]].\n",
            "Therefore, we fail to reject the null hypothesis and conclude that there is no evidence of a difference in Gross Conversion between the two groups.\n"
          ]
        }
      ]
    }
  ]
}